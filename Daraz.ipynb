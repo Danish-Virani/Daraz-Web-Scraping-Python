{
 "cells": [
  {
   "cell_type": "code",
   "execution_count": 46,
   "id": "02be9190-711e-477b-a81c-a14a7df0ad0f",
   "metadata": {},
   "outputs": [],
   "source": [
    "from bs4 import BeautifulSoup\n",
    "import requests\n",
    "import pandas as pd\n",
    "import json\n",
    "import re\n",
    "from time import sleep\n",
    "from selenium import webdriver\n",
    "import numpy as np\n",
    "from selenium.webdriver.support.ui import WebDriverWait\n",
    "from selenium.webdriver.support import expected_conditions as EC\n",
    "from selenium.common.exceptions import TimeoutException\n",
    "from selenium.webdriver.common.by import By"
   ]
  },
  {
   "cell_type": "code",
   "execution_count": 75,
   "id": "037a0914-5314-4659-ad6f-f898905c1c71",
   "metadata": {},
   "outputs": [],
   "source": [
    "# Function to check if the current page is available\n",
    "def is_page_available(driver):\n",
    "    try:\n",
    "        # Wait for an element on the page that indicates its presence\n",
    "        WebDriverWait(driver, 10).until(EC.presence_of_element_located((By.CLASS_NAME, 'product-card--vHfY9')))\n",
    "        return True\n",
    "    except TimeoutException:\n",
    "        return False"
   ]
  },
  {
   "cell_type": "code",
   "execution_count": 76,
   "id": "2857dbc6-26a5-48d6-8ebe-257566891d01",
   "metadata": {},
   "outputs": [],
   "source": [
    "# url='https://www.daraz.pk/smartphones/'\n",
    "# Headers for request\n",
    "# webpage=requests.get(url,HEADERS)\n",
    "webpage=[]\n",
    "driver = webdriver.Chrome()\n",
    "i=1\n",
    "while(True):\n",
    "    url='https://www.daraz.pk/smartphones/'+'?page='+str(i)\n",
    "    driver.get(url)\n",
    "    if(is_page_available(driver)):\n",
    "        webpage.append(driver.page_source)\n",
    "        i=i+1\n",
    "    else:\n",
    "        break\n",
    "driver.close()"
   ]
  },
  {
   "cell_type": "code",
   "execution_count": 77,
   "id": "25aa54c5-324c-446a-84bf-382fc9888ff0",
   "metadata": {},
   "outputs": [
    {
     "data": {
      "text/plain": [
       "58"
      ]
     },
     "execution_count": 77,
     "metadata": {},
     "output_type": "execute_result"
    }
   ],
   "source": [
    "len(webpage)"
   ]
  },
  {
   "cell_type": "code",
   "execution_count": 73,
   "id": "77cd7954-e80a-4c5f-af08-99e88223ac09",
   "metadata": {},
   "outputs": [],
   "source": [
    "for page in webpage[:5]:\n",
    "    soup = BeautifulSoup(page, \"html.parser\")\n",
    "    links=soup.find_all('a','product-card--vHfY9')\n",
    "    scrape_data(links)"
   ]
  },
  {
   "cell_type": "code",
   "execution_count": 65,
   "id": "d08ec26c-2cea-49a5-8f8c-540aaf638215",
   "metadata": {},
   "outputs": [],
   "source": [
    "def initialize_dict():\n",
    "    dict={'title':[],'price':[],'rating':[]}\n",
    "    return dict"
   ]
  },
  {
   "cell_type": "code",
   "execution_count": 66,
   "id": "b74bb4b4-eac9-4469-9209-72e1b2b22dc1",
   "metadata": {},
   "outputs": [],
   "source": [
    "dict=initialize_dict()"
   ]
  },
  {
   "cell_type": "code",
   "execution_count": 67,
   "id": "41b8449d-7f68-4e35-99b1-822947bef61e",
   "metadata": {},
   "outputs": [],
   "source": [
    "def get_title(soup):\n",
    "    try:\n",
    "        title=soup.find('span','pdp-mod-product-badge-title')\n",
    "        title_string=title.text.strip()\n",
    "    except AttributeError:\n",
    "        title_string=\"\"\n",
    "    return title_string"
   ]
  },
  {
   "cell_type": "code",
   "execution_count": 68,
   "id": "1f548547-dc4a-4fb5-bb5d-6aa0cd564181",
   "metadata": {},
   "outputs": [],
   "source": [
    "def get_price(soup):\n",
    "    try:\n",
    "        price=soup.find('span','pdp-price pdp-price_type_normal pdp-price_color_orange pdp-price_size_xl')\n",
    "        price_string=price.text.strip()\n",
    "    except AttributeError:\n",
    "        price_string=\"\"\n",
    "    return price_string"
   ]
  },
  {
   "cell_type": "code",
   "execution_count": 69,
   "id": "08b7b495-a171-4dc5-a318-d96467d6fb4b",
   "metadata": {},
   "outputs": [],
   "source": [
    "def get_rating(soup):\n",
    "    try:\n",
    "        rating=soup.find('a','pdp-link pdp-link_size_s pdp-link_theme_blue pdp-review-summary__link')\n",
    "        rating_string=rating.text.strip()\n",
    "    except AttributeError:\n",
    "        rating_string=\"\"\n",
    "    return rating_string"
   ]
  },
  {
   "cell_type": "code",
   "execution_count": 70,
   "id": "e68f13d8-04cd-4e9c-955b-297a320330c7",
   "metadata": {},
   "outputs": [],
   "source": [
    "def scrape_data(links):\n",
    "    driver = webdriver.Chrome()\n",
    "    for page_link in links:\n",
    "        url=page_link.get('href')\n",
    "        page_url='https:'+url\n",
    "        driver.get(page_url)\n",
    "        webpage = driver.page_source\n",
    "        soup = BeautifulSoup(webpage, \"html.parser\")\n",
    "        dict['title'].append(get_title(soup))\n",
    "        dict['price'].append(get_price(soup))\n",
    "        dict['rating'].append(get_rating(soup))\n",
    "    \n",
    "    driver.close()"
   ]
  },
  {
   "cell_type": "code",
   "execution_count": 235,
   "id": "6b559c56-0c93-4b7f-bd60-d06f13c6b322",
   "metadata": {},
   "outputs": [
    {
     "data": {
      "text/plain": [
       "{'title': ['TECNO SPARK Go 2024 64GB ROM+8GB RAM*(4GB+4GB Extended)   6.6\"HD+Hole PTA APPROVED OFFICIAL BRAND WARRANTY',\n",
       "  'Galaxy A04s 4GB RAM-128GB ROM PTA APPROVED NON ACTIVE OFFICIAL BRAND WARRANNTY',\n",
       "  \"Samsung A14 4GB/128GB - 5000 mAh Battery - 6.6' Display - Android 13 PTA Approved Non Active with 1 Year Official Warranty\",\n",
       "  'SPARK 20C  128GB ROM+4GB RAM*(4GB+4GB Extended)  5000mAh(typ) Battery PTA Approved Official Brand Warranty',\n",
       "  'Samsung Galaxy A04 - 6.5\" Inch Display - 3GB RAM - 32GB ROM',\n",
       "  'Neo 7 Plus | 4GB/64GB | Display: 6.56\" | Camera: 13MP Dual Camera | 8MP Selfie | Battery: 5000mAh | Processor: Octa-Core | Sparx',\n",
       "  'SPARX NEO 7 ULTRA 6+128GB || 6.7\" DISPLAY || 5000mAh BATTERY || OCTA CORE PROCESSOR || FAST CHARGING || PTA APPROVED || ONE YEAR BRAND WARRANTY',\n",
       "  'Infinix Hot 40i || 8GB+8GB Ram 5000mAh Battery || 50MP Camera',\n",
       "  'Redmi 13C  4GB RAM-128GB ROM  6.74\" Dot Drop display Battery & Charging: 5000mAh (typ)  PTA APPROVED OFFICIAL WARRANTY',\n",
       "  'INFINIX HOT40I 8GB RAM- 256GB ROM PTA APPROVED OFFICIAL BRAND WARRANTY',\n",
       "  'Infinix Note 30 RAM 8GB+8GB & 256GB Storage 6.78\" FHD 5000mAh Mega Battery Pta Approved Official Warranty',\n",
       "  'Samsung A05 - 4GB/128GB - 6.7\" Display - Android 13 - 5000 mAh Battery',\n",
       "  'Samsung Galaxy A04 3GB - 32GB OFFICIAL PTA APPROVED NON ACTIVE OFFICIAL WARRANTY',\n",
       "  'Infinix Hot 40i 8GB + 8GB RAM 256GB Memory 5000 mAh Battery 18W Fast Charging 50MP Camera 5000 mAh Battery PTA Approved Brand New Box Packed',\n",
       "  'Imported ViVo Y85 with Box & Charger - Dual Sim Approved - ViVo Y85a - 4GB RAM Mobile - Snapdragon Mobile - Vivo Mobile - Vivo Phone - 4gb Mobile Phone',\n",
       "  'Samsung Galaxy A14 - 6.6\" Inch Display - 4GB RAM - 128GB ROM',\n",
       "  'Neo 7 Ultra | 6GB/128GB | Camera: 50MP + 2MP | 13MP Selfie | Battery: 5000mAh | Processor: Octa-Core | Sparx',\n",
       "  'Nokia C31 - 4GB / 64GB - Smartphone with 6.75\" HD+ Display and 5050 mAh non-removable battery, 4GB RAM / 64GB ROM, Android 12 OS, 2 years quarterly security updates, 13MP triple rear and selfie cameras - PTA approved',\n",
       "  'Samsung Galaxy A04 6.5 Inch 32 GB ROM 3GB RAM Dual Sim 1 Year warranty',\n",
       "  'Samsung Galaxy A04 - 6.5\" Inch Display - 4GB RAM - 64GB ROM',\n",
       "  'Vivo Y81 - 6.2\" HD+ Display - 6GB RAM - 128GB ROM - Dual Sim - Front: 5MP / Rear: 13MP Camera (Phone and Box - No Charger No Accessories Included - Mix Colors)',\n",
       "  'Redmi 12  8GB RAM - 128GB ROM 6.79\" FHD+ DotDisplay  5000mAh battery  PTA Approved Official Brand Warranty',\n",
       "  'Redmi A2+ 3GB - 64GB 5000mAh 10W fast charging 6.52” HD+ Dot Drop display PTA  Approved',\n",
       "  'Itel S23 - 6.6\" Inch Display - 8GB + 8GB RAM - 128GB / 256GB ROM',\n",
       "  'Redmi 13C || 4GB Ram 128GB Rom || 5000mAh Battery',\n",
       "  'A57 2022 (CPH2387) - 6.56 Inches HD+ Display - 6+4GB RAM 128GB ROM -13MP + 2MP + 5MP Camera - Dual SIM (WIth Box Only - Multi Color)',\n",
       "  'Neo 7 Ultra | 6GB/128GB | Camera: 50MP + 2MP | 13MP Selfie | Battery: 5000mAh | Processor: Octa-Core | Sparx',\n",
       "  'Realme Note 50 - 4GB RAM, 64GB STORAGE, 6.7 Inches 90HZ DISPLAY, 13MP AI CAMERA, 7.99mm Ultra Slim BODY, 5000mAh Battery',\n",
       "  'VGOTEL NEW 24 = 4+4 = 8GB RAM = 128GB ROM = 5000mAh BATTERY',\n",
       "  '',\n",
       "  '',\n",
       "  '',\n",
       "  '',\n",
       "  '',\n",
       "  '',\n",
       "  '',\n",
       "  '',\n",
       "  '',\n",
       "  '',\n",
       "  ''],\n",
       " 'price': ['Rs. 21,199',\n",
       "  'Rs. 30,499',\n",
       "  'Rs. 32,099',\n",
       "  'Rs. 24,649',\n",
       "  'Rs. 18,790',\n",
       "  'Rs. 19,998',\n",
       "  'Rs. 25,999',\n",
       "  'Rs. 29,499',\n",
       "  'Rs. 27,399',\n",
       "  'Rs. 31,250',\n",
       "  'Rs. 42,599',\n",
       "  'Rs. 29,599',\n",
       "  'Rs. 18,999',\n",
       "  'Rs. 32,989',\n",
       "  'Rs. 15,441',\n",
       "  'Rs. 31,950',\n",
       "  'Rs. 24,900',\n",
       "  'Rs. 22,499',\n",
       "  'Rs. 18,785',\n",
       "  'Rs. 25,299',\n",
       "  'Rs. 17,999',\n",
       "  'Rs. 34,199',\n",
       "  'Rs. 20,999',\n",
       "  'Rs. 21,950',\n",
       "  'Rs. 27,999',\n",
       "  'Rs. 24,999',\n",
       "  'Rs. 24,900',\n",
       "  'Rs. 24,110',\n",
       "  'Rs. 19,999',\n",
       "  '',\n",
       "  '',\n",
       "  '',\n",
       "  '',\n",
       "  '',\n",
       "  '',\n",
       "  '',\n",
       "  '',\n",
       "  '',\n",
       "  '',\n",
       "  ''],\n",
       " 'rating': ['5 Ratings',\n",
       "  '29 Ratings',\n",
       "  '10 Ratings',\n",
       "  '39 Ratings',\n",
       "  '47 Ratings',\n",
       "  '2 Ratings',\n",
       "  '156 Ratings',\n",
       "  '10 Ratings',\n",
       "  '10 Ratings',\n",
       "  '9 Ratings',\n",
       "  '111 Ratings',\n",
       "  '2 Ratings',\n",
       "  '88 Ratings',\n",
       "  'No Ratings',\n",
       "  '66 Ratings',\n",
       "  '1 Ratings',\n",
       "  '18 Ratings',\n",
       "  '41 Ratings',\n",
       "  '2 Ratings',\n",
       "  '28 Ratings',\n",
       "  '9 Ratings',\n",
       "  '186 Ratings',\n",
       "  '437 Ratings',\n",
       "  '82 Ratings',\n",
       "  '5 Ratings',\n",
       "  '1 Ratings',\n",
       "  '13 Ratings',\n",
       "  '1 Ratings',\n",
       "  '4 Ratings',\n",
       "  '',\n",
       "  '',\n",
       "  '',\n",
       "  '',\n",
       "  '',\n",
       "  '',\n",
       "  '',\n",
       "  '',\n",
       "  '',\n",
       "  '',\n",
       "  '']}"
      ]
     },
     "execution_count": 235,
     "metadata": {},
     "output_type": "execute_result"
    }
   ],
   "source": [
    "dict"
   ]
  },
  {
   "cell_type": "code",
   "execution_count": 74,
   "id": "95ba70ee-7b6c-4d51-af21-9223fd6cc8b3",
   "metadata": {},
   "outputs": [],
   "source": [
    "daraz_df = pd.DataFrame.from_dict(dict)\n",
    "daraz_df['title'].replace('', np.nan, inplace=True)\n",
    "daraz_df = daraz_df.dropna(subset=['title'])\n",
    "daraz_df.to_csv(\"daraz_data_phones.csv\", header=True, index=False)\n",
    "dict=initialize_dict()"
   ]
  }
 ],
 "metadata": {
  "kernelspec": {
   "display_name": "Python 3 (ipykernel)",
   "language": "python",
   "name": "python3"
  },
  "language_info": {
   "codemirror_mode": {
    "name": "ipython",
    "version": 3
   },
   "file_extension": ".py",
   "mimetype": "text/x-python",
   "name": "python",
   "nbconvert_exporter": "python",
   "pygments_lexer": "ipython3",
   "version": "3.9.0"
  }
 },
 "nbformat": 4,
 "nbformat_minor": 5
}
